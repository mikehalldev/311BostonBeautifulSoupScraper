{
 "cells": [
  {
   "cell_type": "markdown",
   "metadata": {},
   "source": [
    "### Imports"
   ]
  },
  {
   "cell_type": "code",
   "execution_count": 1,
   "metadata": {},
   "outputs": [],
   "source": [
    "from bs4 import BeautifulSoup\n",
    "import requests\n",
    "import time\n",
    "import re\n",
    "import folium\n",
    "import pandas as pd"
   ]
  },
  {
   "cell_type": "markdown",
   "metadata": {},
   "source": [
    "### Constants"
   ]
  },
  {
   "cell_type": "code",
   "execution_count": 2,
   "metadata": {},
   "outputs": [],
   "source": [
    "BOSTON_URL = r'https://311.boston.gov'"
   ]
  },
  {
   "cell_type": "markdown",
   "metadata": {},
   "source": [
    "### Main Page Scraper Class"
   ]
  },
  {
   "cell_type": "code",
   "execution_count": 3,
   "metadata": {},
   "outputs": [],
   "source": [
    "class Scraper:\n",
    "    \"\"\"Scrapes the Boston's 311 main page with BeautifulSoup\"\"\"\n",
    "    \n",
    "    def __init__(self):\n",
    "        self.current_page = 1\n",
    "        self.report_urls = []\n",
    "        \n",
    "        # Get main page soup\n",
    "        res = requests.get(BOSTON_URL)\n",
    "        self.soup = BeautifulSoup(res.text, \"html5lib\")\n",
    "        \n",
    "    def get_next_page_soup(self):\n",
    "        \"\"\"Adds soup from next page to soup\"\"\"\n",
    "        if not self.current_page == 20:\n",
    "            time.sleep(1)\n",
    "            self.current_page += 1\n",
    "            \n",
    "            res = requests.get(BOSTON_URL + \"/?page=\" + str(self.current_page))\n",
    "            new_soup = BeautifulSoup(res.text, \"html5lib\")\n",
    "            \n",
    "            self.soup.append(new_soup.body)\n",
    "            \n",
    "    def get_report_urls(self):\n",
    "        \"\"\"Gets all '.report' class 'onclick' attributes, and gets the appropriate URLs\"\"\"\n",
    "        onclick_attrs = [elem['onclick'] for elem in self.soup.select(\".report\")]\n",
    "        self.report_urls = [BOSTON_URL + onclick_text.split(\"'\")[1] for onclick_text in onclick_attrs]"
   ]
  },
  {
   "cell_type": "code",
   "execution_count": 4,
   "metadata": {},
   "outputs": [
    {
     "data": {
      "text/plain": [
       "['https://311.boston.gov/reports/101002277511',\n",
       " 'https://311.boston.gov/reports/101002277510',\n",
       " 'https://311.boston.gov/reports/101002277509',\n",
       " 'https://311.boston.gov/reports/101002277508',\n",
       " 'https://311.boston.gov/reports/101002277506',\n",
       " 'https://311.boston.gov/reports/101002277498',\n",
       " 'https://311.boston.gov/reports/101002277505',\n",
       " 'https://311.boston.gov/reports/101002277502',\n",
       " 'https://311.boston.gov/reports/101002277297',\n",
       " 'https://311.boston.gov/reports/101002277501',\n",
       " 'https://311.boston.gov/reports/101002277500',\n",
       " 'https://311.boston.gov/reports/101002277499',\n",
       " 'https://311.boston.gov/reports/101002277304',\n",
       " 'https://311.boston.gov/reports/101002277497',\n",
       " 'https://311.boston.gov/reports/101002277495',\n",
       " 'https://311.boston.gov/reports/101002277494',\n",
       " 'https://311.boston.gov/reports/101002277493',\n",
       " 'https://311.boston.gov/reports/101002277490',\n",
       " 'https://311.boston.gov/reports/101002277491',\n",
       " 'https://311.boston.gov/reports/101002277492']"
      ]
     },
     "execution_count": 4,
     "metadata": {},
     "output_type": "execute_result"
    }
   ],
   "source": [
    "scraper = Scraper()\n",
    "scraper.get_next_page_soup()\n",
    "scraper.get_report_urls()\n",
    "scraper.report_urls"
   ]
  },
  {
   "cell_type": "markdown",
   "metadata": {},
   "source": [
    "### Report Class\n"
   ]
  },
  {
   "cell_type": "code",
   "execution_count": 5,
   "metadata": {},
   "outputs": [],
   "source": [
    "class Report:\n",
    "    \"\"\"Gets individual report data\"\"\"\n",
    "    \n",
    "    def __init__(self, report_url):\n",
    "        self.report_url = report_url\n",
    "        \n",
    "        res = requests.get(self.report_url)\n",
    "        self.soup = BeautifulSoup(res.text, \"html5lib\")\n",
    "        \n",
    "        self.report_dict = {}\n",
    "        \n",
    "    def get_id(self):\n",
    "        \"\"\"Get the id of the report\"\"\"\n",
    "        self.report_dict['id'] = self.report_url.split(\"/\")[-1]\n",
    "        \n",
    "    def get_category(self):\n",
    "        \"\"\"Gets the category of the report\"\"\"\n",
    "        category_text = self.soup.select(\".content-head\")[0].h2.get_text()\n",
    "        self.report_dict['category'] = category_text.split(\" at \")[0]\n",
    "        \n",
    "    def get_lat_long(self):\n",
    "        \"\"\"Get latitude and longitude of the report\"\"\"\n",
    "        lat_long_elem_text = self.soup.find(\"strong\", text=\"coordinates lat,lng: \").find_parent(\"p\").get_text()\n",
    "        lat_long = re.findall(\"[+-]?\\d+\\.\\d+\", lat_long_elem_text)\n",
    "        \n",
    "        self.report_dict['latitude'] = float(lat_long[0])\n",
    "        self.report_dict['longitude'] = float(lat_long[1])\n",
    "        \n",
    "    def get_address(self):\n",
    "        \"\"\"Gets the address of the report\"\"\"\n",
    "        address_text = self.soup.find(\"strong\", text=\"address: \").find_parent(\"p\").get_text()\n",
    "        self.report_dict['address'] = address_text.split(\"address: \")[1]"
   ]
  },
  {
   "cell_type": "code",
   "execution_count": 6,
   "metadata": {},
   "outputs": [],
   "source": [
    "report_dicts = []\n",
    "for i in range(len(scraper.report_urls)):\n",
    "    time.sleep(1)\n",
    "    \n",
    "    report = Report(scraper.report_urls[i])\n",
    "    report.get_id()\n",
    "    report.get_category()\n",
    "    report.get_lat_long()\n",
    "    report.get_address()\n",
    "    \n",
    "    report_dicts.append(report.report_dict)\n"
   ]
  },
  {
   "cell_type": "code",
   "execution_count": 7,
   "metadata": {},
   "outputs": [
    {
     "data": {
      "text/html": [
       "<div>\n",
       "<style scoped>\n",
       "    .dataframe tbody tr th:only-of-type {\n",
       "        vertical-align: middle;\n",
       "    }\n",
       "\n",
       "    .dataframe tbody tr th {\n",
       "        vertical-align: top;\n",
       "    }\n",
       "\n",
       "    .dataframe thead th {\n",
       "        text-align: right;\n",
       "    }\n",
       "</style>\n",
       "<table border=\"1\" class=\"dataframe\">\n",
       "  <thead>\n",
       "    <tr style=\"text-align: right;\">\n",
       "      <th></th>\n",
       "      <th>id</th>\n",
       "      <th>category</th>\n",
       "      <th>address</th>\n",
       "      <th>latitude</th>\n",
       "      <th>longitude</th>\n",
       "    </tr>\n",
       "  </thead>\n",
       "  <tbody>\n",
       "    <tr>\n",
       "      <th>0</th>\n",
       "      <td>101002277511</td>\n",
       "      <td>Other</td>\n",
       "      <td>106 Saratoga St, East Boston</td>\n",
       "      <td>42.376858</td>\n",
       "      <td>-71.036042</td>\n",
       "    </tr>\n",
       "    <tr>\n",
       "      <th>1</th>\n",
       "      <td>101002277510</td>\n",
       "      <td>Illegal Parking</td>\n",
       "      <td>Intersection Of Worthington St &amp; Huntington Av...</td>\n",
       "      <td>42.335173</td>\n",
       "      <td>-71.101723</td>\n",
       "    </tr>\n",
       "    <tr>\n",
       "      <th>2</th>\n",
       "      <td>101002277509</td>\n",
       "      <td>Litter</td>\n",
       "      <td>48 62 Brookline Ave, Boston</td>\n",
       "      <td>42.347394</td>\n",
       "      <td>-71.098166</td>\n",
       "    </tr>\n",
       "    <tr>\n",
       "      <th>3</th>\n",
       "      <td>101002277508</td>\n",
       "      <td>Residential Trash out Illegally</td>\n",
       "      <td>16 Myopia Rd, Hyde Park</td>\n",
       "      <td>42.263618</td>\n",
       "      <td>-71.127081</td>\n",
       "    </tr>\n",
       "    <tr>\n",
       "      <th>4</th>\n",
       "      <td>101002277506</td>\n",
       "      <td>Litter</td>\n",
       "      <td>998 Blue Hill Ave, Dorchester</td>\n",
       "      <td>42.289967</td>\n",
       "      <td>-71.089148</td>\n",
       "    </tr>\n",
       "    <tr>\n",
       "      <th>5</th>\n",
       "      <td>101002277498</td>\n",
       "      <td>Other</td>\n",
       "      <td>Intersection Of N Bennet St &amp; Salem St, Boston</td>\n",
       "      <td>42.365815</td>\n",
       "      <td>-71.055016</td>\n",
       "    </tr>\n",
       "    <tr>\n",
       "      <th>6</th>\n",
       "      <td>101002277505</td>\n",
       "      <td>Illegal Parking</td>\n",
       "      <td>15 Montrose St, Roxbury</td>\n",
       "      <td>42.323603</td>\n",
       "      <td>-71.081062</td>\n",
       "    </tr>\n",
       "    <tr>\n",
       "      <th>7</th>\n",
       "      <td>101002277502</td>\n",
       "      <td>Schedule a Bulk Item Pickup</td>\n",
       "      <td>Intersection Of N Bennet St &amp; Salem St, Boston</td>\n",
       "      <td>42.365875</td>\n",
       "      <td>-71.055062</td>\n",
       "    </tr>\n",
       "    <tr>\n",
       "      <th>8</th>\n",
       "      <td>101002277297</td>\n",
       "      <td>Other</td>\n",
       "      <td>36 Worcester Sq, Roxbury</td>\n",
       "      <td>42.336420</td>\n",
       "      <td>-71.073918</td>\n",
       "    </tr>\n",
       "    <tr>\n",
       "      <th>9</th>\n",
       "      <td>101002277501</td>\n",
       "      <td>Illegal Graffiti</td>\n",
       "      <td>Intersection Of Hawthorne Pl &amp; William Cardina...</td>\n",
       "      <td>42.363444</td>\n",
       "      <td>-71.066525</td>\n",
       "    </tr>\n",
       "    <tr>\n",
       "      <th>10</th>\n",
       "      <td>101002277500</td>\n",
       "      <td>Illegal Parking</td>\n",
       "      <td>6 Beethoven St, Roxbury</td>\n",
       "      <td>42.315362</td>\n",
       "      <td>-71.099243</td>\n",
       "    </tr>\n",
       "    <tr>\n",
       "      <th>11</th>\n",
       "      <td>101002277499</td>\n",
       "      <td>Illegal Parking</td>\n",
       "      <td>222 Foster St, Apt 1, Brighton</td>\n",
       "      <td>42.342879</td>\n",
       "      <td>-71.157976</td>\n",
       "    </tr>\n",
       "    <tr>\n",
       "      <th>12</th>\n",
       "      <td>101002277304</td>\n",
       "      <td>Other</td>\n",
       "      <td>106 Saratoga St, East Boston</td>\n",
       "      <td>42.376850</td>\n",
       "      <td>-71.036091</td>\n",
       "    </tr>\n",
       "    <tr>\n",
       "      <th>13</th>\n",
       "      <td>101002277497</td>\n",
       "      <td>Illegal Parking</td>\n",
       "      <td>1 Centre Ave, Dorchester</td>\n",
       "      <td>42.292879</td>\n",
       "      <td>-71.062721</td>\n",
       "    </tr>\n",
       "    <tr>\n",
       "      <th>14</th>\n",
       "      <td>101002277495</td>\n",
       "      <td>Illegal Parking</td>\n",
       "      <td>131 Arlington St, Boston</td>\n",
       "      <td>42.349046</td>\n",
       "      <td>-71.069664</td>\n",
       "    </tr>\n",
       "    <tr>\n",
       "      <th>15</th>\n",
       "      <td>101002277494</td>\n",
       "      <td>Litter</td>\n",
       "      <td>Intersection Of Morse St &amp; Ronald St, Dorchester</td>\n",
       "      <td>42.304589</td>\n",
       "      <td>-71.078068</td>\n",
       "    </tr>\n",
       "    <tr>\n",
       "      <th>16</th>\n",
       "      <td>101002277493</td>\n",
       "      <td>Broken Sidewalk</td>\n",
       "      <td>150 Boylston St, Boston</td>\n",
       "      <td>42.352293</td>\n",
       "      <td>-71.066474</td>\n",
       "    </tr>\n",
       "    <tr>\n",
       "      <th>17</th>\n",
       "      <td>101002277490</td>\n",
       "      <td>Traffic Signal Studies</td>\n",
       "      <td>Intersection Of Charles St S &amp; Boylston St, Bo...</td>\n",
       "      <td>42.352495</td>\n",
       "      <td>-71.067500</td>\n",
       "    </tr>\n",
       "    <tr>\n",
       "      <th>18</th>\n",
       "      <td>101002277491</td>\n",
       "      <td>Other</td>\n",
       "      <td>900 Huntington Ave, Mission Hill</td>\n",
       "      <td>42.331929</td>\n",
       "      <td>-71.111721</td>\n",
       "    </tr>\n",
       "    <tr>\n",
       "      <th>19</th>\n",
       "      <td>101002277492</td>\n",
       "      <td>Damaged Sign</td>\n",
       "      <td>10 Gay Head St, Jamaica Plain</td>\n",
       "      <td>42.323482</td>\n",
       "      <td>-71.105337</td>\n",
       "    </tr>\n",
       "  </tbody>\n",
       "</table>\n",
       "</div>"
      ],
      "text/plain": [
       "              id                         category  \\\n",
       "0   101002277511                            Other   \n",
       "1   101002277510                  Illegal Parking   \n",
       "2   101002277509                           Litter   \n",
       "3   101002277508  Residential Trash out Illegally   \n",
       "4   101002277506                           Litter   \n",
       "5   101002277498                            Other   \n",
       "6   101002277505                  Illegal Parking   \n",
       "7   101002277502      Schedule a Bulk Item Pickup   \n",
       "8   101002277297                            Other   \n",
       "9   101002277501                 Illegal Graffiti   \n",
       "10  101002277500                  Illegal Parking   \n",
       "11  101002277499                  Illegal Parking   \n",
       "12  101002277304                            Other   \n",
       "13  101002277497                  Illegal Parking   \n",
       "14  101002277495                  Illegal Parking   \n",
       "15  101002277494                           Litter   \n",
       "16  101002277493                  Broken Sidewalk   \n",
       "17  101002277490           Traffic Signal Studies   \n",
       "18  101002277491                            Other   \n",
       "19  101002277492                     Damaged Sign   \n",
       "\n",
       "                                              address   latitude  longitude  \n",
       "0                        106 Saratoga St, East Boston  42.376858 -71.036042  \n",
       "1   Intersection Of Worthington St & Huntington Av...  42.335173 -71.101723  \n",
       "2                         48 62 Brookline Ave, Boston  42.347394 -71.098166  \n",
       "3                             16 Myopia Rd, Hyde Park  42.263618 -71.127081  \n",
       "4                       998 Blue Hill Ave, Dorchester  42.289967 -71.089148  \n",
       "5      Intersection Of N Bennet St & Salem St, Boston  42.365815 -71.055016  \n",
       "6                             15 Montrose St, Roxbury  42.323603 -71.081062  \n",
       "7      Intersection Of N Bennet St & Salem St, Boston  42.365875 -71.055062  \n",
       "8                            36 Worcester Sq, Roxbury  42.336420 -71.073918  \n",
       "9   Intersection Of Hawthorne Pl & William Cardina...  42.363444 -71.066525  \n",
       "10                            6 Beethoven St, Roxbury  42.315362 -71.099243  \n",
       "11                     222 Foster St, Apt 1, Brighton  42.342879 -71.157976  \n",
       "12                       106 Saratoga St, East Boston  42.376850 -71.036091  \n",
       "13                           1 Centre Ave, Dorchester  42.292879 -71.062721  \n",
       "14                           131 Arlington St, Boston  42.349046 -71.069664  \n",
       "15   Intersection Of Morse St & Ronald St, Dorchester  42.304589 -71.078068  \n",
       "16                            150 Boylston St, Boston  42.352293 -71.066474  \n",
       "17  Intersection Of Charles St S & Boylston St, Bo...  42.352495 -71.067500  \n",
       "18                   900 Huntington Ave, Mission Hill  42.331929 -71.111721  \n",
       "19                      10 Gay Head St, Jamaica Plain  42.323482 -71.105337  "
      ]
     },
     "execution_count": 7,
     "metadata": {},
     "output_type": "execute_result"
    }
   ],
   "source": [
    "df = pd.DataFrame(report_dicts, columns=['id', 'category', 'address', 'latitude', 'longitude'])\n",
    "df"
   ]
  },
  {
   "cell_type": "markdown",
   "metadata": {},
   "source": [
    "### Get folium map"
   ]
  },
  {
   "cell_type": "code",
   "execution_count": 8,
   "metadata": {
    "scrolled": false
   },
   "outputs": [
    {
     "data": {
      "text/html": [
       "<div style=\"width:100%;\"><div style=\"position:relative;width:100%;height:0;padding-bottom:60%;\"><iframe src=\"data:text/html;charset=utf-8;base64,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\" style=\"position:absolute;width:100%;height:100%;left:0;top:0;border:none !important;\" allowfullscreen webkitallowfullscreen mozallowfullscreen></iframe></div></div>"
      ],
      "text/plain": [
       "<folium.folium.Map at 0x96edc50>"
      ]
     },
     "execution_count": 8,
     "metadata": {},
     "output_type": "execute_result"
    }
   ],
   "source": [
    "locations = df[['latitude', 'longitude']]\n",
    "categories = df['category'].tolist()\n",
    "location_list = locations.values.tolist()\n",
    "\n",
    "loc_map = folium.Map(location=location_list[0], zoom_start=12)\n",
    "\n",
    "for i in range(len(location_list)):\n",
    "    folium.Marker(location_list[i], popup=categories[i]).add_to(loc_map)\n",
    "    \n",
    "loc_map\n"
   ]
  },
  {
   "cell_type": "markdown",
   "metadata": {},
   "source": [
    "### Folium map for Trash category"
   ]
  },
  {
   "cell_type": "code",
   "execution_count": 9,
   "metadata": {},
   "outputs": [
    {
     "name": "stdout",
     "output_type": "stream",
     "text": [
      "Enter a category to search for: Illegal Parking\n"
     ]
    }
   ],
   "source": [
    "search_category = input(\"Enter a category to search for: \")"
   ]
  },
  {
   "cell_type": "code",
   "execution_count": 10,
   "metadata": {},
   "outputs": [
    {
     "data": {
      "text/html": [
       "<div>\n",
       "<style scoped>\n",
       "    .dataframe tbody tr th:only-of-type {\n",
       "        vertical-align: middle;\n",
       "    }\n",
       "\n",
       "    .dataframe tbody tr th {\n",
       "        vertical-align: top;\n",
       "    }\n",
       "\n",
       "    .dataframe thead th {\n",
       "        text-align: right;\n",
       "    }\n",
       "</style>\n",
       "<table border=\"1\" class=\"dataframe\">\n",
       "  <thead>\n",
       "    <tr style=\"text-align: right;\">\n",
       "      <th></th>\n",
       "      <th>id</th>\n",
       "      <th>category</th>\n",
       "      <th>address</th>\n",
       "      <th>latitude</th>\n",
       "      <th>longitude</th>\n",
       "    </tr>\n",
       "  </thead>\n",
       "  <tbody>\n",
       "    <tr>\n",
       "      <th>1</th>\n",
       "      <td>101002277510</td>\n",
       "      <td>Illegal Parking</td>\n",
       "      <td>Intersection Of Worthington St &amp; Huntington Av...</td>\n",
       "      <td>42.335173</td>\n",
       "      <td>-71.101723</td>\n",
       "    </tr>\n",
       "    <tr>\n",
       "      <th>6</th>\n",
       "      <td>101002277505</td>\n",
       "      <td>Illegal Parking</td>\n",
       "      <td>15 Montrose St, Roxbury</td>\n",
       "      <td>42.323603</td>\n",
       "      <td>-71.081062</td>\n",
       "    </tr>\n",
       "    <tr>\n",
       "      <th>10</th>\n",
       "      <td>101002277500</td>\n",
       "      <td>Illegal Parking</td>\n",
       "      <td>6 Beethoven St, Roxbury</td>\n",
       "      <td>42.315362</td>\n",
       "      <td>-71.099243</td>\n",
       "    </tr>\n",
       "    <tr>\n",
       "      <th>11</th>\n",
       "      <td>101002277499</td>\n",
       "      <td>Illegal Parking</td>\n",
       "      <td>222 Foster St, Apt 1, Brighton</td>\n",
       "      <td>42.342879</td>\n",
       "      <td>-71.157976</td>\n",
       "    </tr>\n",
       "    <tr>\n",
       "      <th>13</th>\n",
       "      <td>101002277497</td>\n",
       "      <td>Illegal Parking</td>\n",
       "      <td>1 Centre Ave, Dorchester</td>\n",
       "      <td>42.292879</td>\n",
       "      <td>-71.062721</td>\n",
       "    </tr>\n",
       "    <tr>\n",
       "      <th>14</th>\n",
       "      <td>101002277495</td>\n",
       "      <td>Illegal Parking</td>\n",
       "      <td>131 Arlington St, Boston</td>\n",
       "      <td>42.349046</td>\n",
       "      <td>-71.069664</td>\n",
       "    </tr>\n",
       "  </tbody>\n",
       "</table>\n",
       "</div>"
      ],
      "text/plain": [
       "              id         category  \\\n",
       "1   101002277510  Illegal Parking   \n",
       "6   101002277505  Illegal Parking   \n",
       "10  101002277500  Illegal Parking   \n",
       "11  101002277499  Illegal Parking   \n",
       "13  101002277497  Illegal Parking   \n",
       "14  101002277495  Illegal Parking   \n",
       "\n",
       "                                              address   latitude  longitude  \n",
       "1   Intersection Of Worthington St & Huntington Av...  42.335173 -71.101723  \n",
       "6                             15 Montrose St, Roxbury  42.323603 -71.081062  \n",
       "10                            6 Beethoven St, Roxbury  42.315362 -71.099243  \n",
       "11                     222 Foster St, Apt 1, Brighton  42.342879 -71.157976  \n",
       "13                           1 Centre Ave, Dorchester  42.292879 -71.062721  \n",
       "14                           131 Arlington St, Boston  42.349046 -71.069664  "
      ]
     },
     "execution_count": 10,
     "metadata": {},
     "output_type": "execute_result"
    }
   ],
   "source": [
    "search_df = df.loc[df['category'] == search_category]\n",
    "search_df"
   ]
  },
  {
   "cell_type": "code",
   "execution_count": 11,
   "metadata": {},
   "outputs": [
    {
     "data": {
      "text/html": [
       "<div style=\"width:100%;\"><div style=\"position:relative;width:100%;height:0;padding-bottom:60%;\"><iframe src=\"data:text/html;charset=utf-8;base64,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\" style=\"position:absolute;width:100%;height:100%;left:0;top:0;border:none !important;\" allowfullscreen webkitallowfullscreen mozallowfullscreen></iframe></div></div>"
      ],
      "text/plain": [
       "<folium.folium.Map at 0x97683f0>"
      ]
     },
     "execution_count": 11,
     "metadata": {},
     "output_type": "execute_result"
    }
   ],
   "source": [
    "locations = search_df[['latitude', 'longitude']]\n",
    "categories = search_df['category'].tolist()\n",
    "location_list = locations.values.tolist()\n",
    "\n",
    "loc_map = folium.Map(location=location_list[0], zoom_start=12)\n",
    "\n",
    "for i in range(len(location_list)):\n",
    "    folium.Marker(location_list[i], popup=categories[i]).add_to(loc_map)\n",
    "    \n",
    "loc_map"
   ]
  }
 ],
 "metadata": {
  "kernelspec": {
   "display_name": "Python 3",
   "language": "python",
   "name": "python3"
  },
  "language_info": {
   "codemirror_mode": {
    "name": "ipython",
    "version": 3
   },
   "file_extension": ".py",
   "mimetype": "text/x-python",
   "name": "python",
   "nbconvert_exporter": "python",
   "pygments_lexer": "ipython3",
   "version": "3.6.3"
  }
 },
 "nbformat": 4,
 "nbformat_minor": 2
}
